{
 "cells": [
  {
   "cell_type": "code",
   "execution_count": 11,
   "metadata": {
    "collapsed": true,
    "slideshow": {
     "slide_type": "skip"
    }
   },
   "outputs": [],
   "source": [
    "%plot --format svg"
   ]
  },
  {
   "cell_type": "code",
   "execution_count": 12,
   "metadata": {
    "collapsed": true,
    "slideshow": {
     "slide_type": "skip"
    }
   },
   "outputs": [],
   "source": [
    "setdefaults"
   ]
  },
  {
   "cell_type": "markdown",
   "metadata": {
    "slideshow": {
     "slide_type": "slide"
    }
   },
   "source": [
    "# Paying off a car/house/boat/... with a loan"
   ]
  },
  {
   "cell_type": "markdown",
   "metadata": {
    "slideshow": {
     "slide_type": "fragment"
    }
   },
   "source": [
    "You take a loan of some amount P, and the lender says you can pay any monthly payment you want, but at the end of the loan time, T, you have to pay the difference left over. \n",
    "\n",
    "What monthly payment should you use so that you have $0 at the end of the loan time, T? with an interest rate of R?"
   ]
  },
  {
   "cell_type": "code",
   "execution_count": 25,
   "metadata": {
    "collapsed": false,
    "slideshow": {
     "slide_type": "slide"
    }
   },
   "outputs": [],
   "source": [
    "function amount_left = loan_payments(monthly_payment,price,apr,no_of_years,plot_bool)\n",
    "  % loan_payments(monthly_payment,price,apr,no_of_years) calculates the principal amount\n",
    "  % left over on a loan if \n",
    "  % the monthly payment is \"monthly_payment\"\n",
    "  % the price of the loan is \"price\"\n",
    "  % the annual percent rate of interest is \"apr\" (compounded monthly)\n",
    "  % and the number of years the loan is paid is \"no_of_years\"\n",
    "  % plot_bool=0,1 if the principle left should be plotted no,yes\n",
    "  interest_per_month = apr/12;\n",
    "  number_of_months = no_of_years*12;\n",
    "  principle=price;\n",
    "  P_vector=zeros(1,number_of_months);\n",
    "  for i = 1:number_of_months\n",
    "    principle=principle-monthly_payment;\n",
    "    principle=(1+interest_per_month)*principle;\n",
    "    P_vector(i)=principle;\n",
    "  end\n",
    "  amount_left=principle;\n",
    "  if plot_bool\n",
    "    figure(1)\n",
    "    plot([1:number_of_months]/12, P_vector,'o')\n",
    "    xlabel('time (years)')\n",
    "    ylabel('principle amount left ($)')\n",
    "  end\n",
    "end"
   ]
  },
  {
   "cell_type": "code",
   "execution_count": 34,
   "metadata": {
    "collapsed": false,
    "slideshow": {
     "slide_type": "slide"
    }
   },
   "outputs": [
    {
     "data": {
      "image/svg+xml": [
       "<svg height=\"420px\" viewBox=\"0 0 560 420\" width=\"560px\" xmlns=\"http://www.w3.org/2000/svg\" xmlns:xlink=\"http://www.w3.org/1999/xlink\">\n",
       "\n",
       "<title>Gnuplot</title>\n",
       "<desc>Produced by GNUPLOT 5.0 patchlevel 3 </desc>\n",
       "\n",
       "<g id=\"gnuplot_canvas\">\n",
       "\n",
       "<rect fill=\"none\" height=\"420\" width=\"560\" x=\"0\" y=\"0\"/>\n",
       "<defs>\n",
       "\n",
       "\t<circle id=\"gpDot\" r=\"0.5\" stroke-width=\"0.5\"/>\n",
       "\t<path d=\"M-1,0 h2 M0,-1 v2\" id=\"gpPt0\" stroke=\"currentColor\" stroke-width=\"0.222\"/>\n",
       "\t<path d=\"M-1,-1 L1,1 M1,-1 L-1,1\" id=\"gpPt1\" stroke=\"currentColor\" stroke-width=\"0.222\"/>\n",
       "\t<path d=\"M-1,0 L1,0 M0,-1 L0,1 M-1,-1 L1,1 M-1,1 L1,-1\" id=\"gpPt2\" stroke=\"currentColor\" stroke-width=\"0.222\"/>\n",
       "\t<rect height=\"2\" id=\"gpPt3\" stroke=\"currentColor\" stroke-width=\"0.222\" width=\"2\" x=\"-1\" y=\"-1\"/>\n",
       "\t<rect fill=\"currentColor\" height=\"2\" id=\"gpPt4\" stroke=\"currentColor\" stroke-width=\"0.222\" width=\"2\" x=\"-1\" y=\"-1\"/>\n",
       "\t<circle cx=\"0\" cy=\"0\" id=\"gpPt5\" r=\"1\" stroke=\"currentColor\" stroke-width=\"0.222\"/>\n",
       "\t<use fill=\"currentColor\" id=\"gpPt6\" stroke=\"none\" xlink:href=\"#gpPt5\"/>\n",
       "\t<path d=\"M0,-1.33 L-1.33,0.67 L1.33,0.67 z\" id=\"gpPt7\" stroke=\"currentColor\" stroke-width=\"0.222\"/>\n",
       "\t<use fill=\"currentColor\" id=\"gpPt8\" stroke=\"none\" xlink:href=\"#gpPt7\"/>\n",
       "\t<use id=\"gpPt9\" stroke=\"currentColor\" transform=\"rotate(180)\" xlink:href=\"#gpPt7\"/>\n",
       "\t<use fill=\"currentColor\" id=\"gpPt10\" stroke=\"none\" xlink:href=\"#gpPt9\"/>\n",
       "\t<use id=\"gpPt11\" stroke=\"currentColor\" transform=\"rotate(45)\" xlink:href=\"#gpPt3\"/>\n",
       "\t<use fill=\"currentColor\" id=\"gpPt12\" stroke=\"none\" xlink:href=\"#gpPt11\"/>\n",
       "\t<path d=\"M0,1.330 L1.265,0.411 L0.782,-1.067 L-0.782,-1.076 L-1.265,0.411 z\" id=\"gpPt13\" stroke=\"currentColor\" stroke-width=\"0.222\"/>\n",
       "\t<use fill=\"currentColor\" id=\"gpPt14\" stroke=\"none\" xlink:href=\"#gpPt13\"/>\n",
       "\t<filter filterUnits=\"objectBoundingBox\" height=\"1\" id=\"textbox\" width=\"1\" x=\"0\" y=\"0\">\n",
       "\t  <feFlood flood-color=\"white\" flood-opacity=\"1\" result=\"bgnd\"/>\n",
       "\t  <feComposite in=\"SourceGraphic\" in2=\"bgnd\" operator=\"atop\"/>\n",
       "\t</filter>\n",
       "\t<filter filterUnits=\"objectBoundingBox\" height=\"1\" id=\"greybox\" width=\"1\" x=\"0\" y=\"0\">\n",
       "\t  <feFlood flood-color=\"lightgrey\" flood-opacity=\"1\" result=\"grey\"/>\n",
       "\t  <feComposite in=\"SourceGraphic\" in2=\"grey\" operator=\"atop\"/>\n",
       "\t</filter>\n",
       "</defs>\n",
       "<g color=\"white\" fill=\"none\" stroke=\"currentColor\" stroke-linecap=\"butt\" stroke-linejoin=\"miter\" stroke-width=\"1.00\">\n",
       "</g>\n",
       "<g color=\"black\" fill=\"none\" stroke=\"currentColor\" stroke-linecap=\"butt\" stroke-linejoin=\"miter\" stroke-width=\"1.00\">\n",
       "\t<g shape-rendering=\"crispEdges\" stroke=\"none\">\n",
       "\t\t<polygon fill=\"rgb(255, 255, 255)\" points=\"53.9,384.0 534.9,384.0 534.9,16.8 53.9,16.8 \"/>\n",
       "\t</g>\n",
       "</g>\n",
       "<g color=\"black\" fill=\"none\" stroke=\"rgb(255, 255, 255)\" stroke-linecap=\"butt\" stroke-linejoin=\"miter\" stroke-width=\"0.50\">\n",
       "</g>\n",
       "<g color=\"black\" fill=\"none\" stroke=\"currentColor\" stroke-linecap=\"butt\" stroke-linejoin=\"miter\" stroke-width=\"0.50\">\n",
       "\t<path d=\"M53.9,384.0 L66.4,384.0 M535.0,384.0 L522.5,384.0  \" stroke=\"black\"/>\t<g fill=\"rgb(0,0,0)\" font-family=\"{}\" font-size=\"16.00\" stroke=\"none\" text-anchor=\"end\" transform=\"translate(45.6,390.0)\">\n",
       "\t\t<text><tspan font-family=\"{}\">-600</tspan></text>\n",
       "\t</g>\n",
       "</g>\n",
       "<g color=\"black\" fill=\"none\" stroke=\"currentColor\" stroke-linecap=\"butt\" stroke-linejoin=\"miter\" stroke-width=\"0.50\">\n",
       "\t<path d=\"M53.9,310.5 L66.4,310.5 M535.0,310.5 L522.5,310.5  \" stroke=\"black\"/>\t<g fill=\"rgb(0,0,0)\" font-family=\"{}\" font-size=\"16.00\" stroke=\"none\" text-anchor=\"end\" transform=\"translate(45.6,316.5)\">\n",
       "\t\t<text><tspan font-family=\"{}\">-400</tspan></text>\n",
       "\t</g>\n",
       "</g>\n",
       "<g color=\"black\" fill=\"none\" stroke=\"currentColor\" stroke-linecap=\"butt\" stroke-linejoin=\"miter\" stroke-width=\"0.50\">\n",
       "\t<path d=\"M53.9,237.1 L66.4,237.1 M535.0,237.1 L522.5,237.1  \" stroke=\"black\"/>\t<g fill=\"rgb(0,0,0)\" font-family=\"{}\" font-size=\"16.00\" stroke=\"none\" text-anchor=\"end\" transform=\"translate(45.6,243.1)\">\n",
       "\t\t<text><tspan font-family=\"{}\">-200</tspan></text>\n",
       "\t</g>\n",
       "</g>\n",
       "<g color=\"black\" fill=\"none\" stroke=\"currentColor\" stroke-linecap=\"butt\" stroke-linejoin=\"miter\" stroke-width=\"0.50\">\n",
       "\t<path d=\"M53.9,163.6 L66.4,163.6 M535.0,163.6 L522.5,163.6  \" stroke=\"black\"/>\t<g fill=\"rgb(0,0,0)\" font-family=\"{}\" font-size=\"16.00\" stroke=\"none\" text-anchor=\"end\" transform=\"translate(45.6,169.6)\">\n",
       "\t\t<text><tspan font-family=\"{}\">0</tspan></text>\n",
       "\t</g>\n",
       "</g>\n",
       "<g color=\"black\" fill=\"none\" stroke=\"currentColor\" stroke-linecap=\"butt\" stroke-linejoin=\"miter\" stroke-width=\"0.50\">\n",
       "\t<path d=\"M53.9,90.2 L66.4,90.2 M535.0,90.2 L522.5,90.2  \" stroke=\"black\"/>\t<g fill=\"rgb(0,0,0)\" font-family=\"{}\" font-size=\"16.00\" stroke=\"none\" text-anchor=\"end\" transform=\"translate(45.6,96.2)\">\n",
       "\t\t<text><tspan font-family=\"{}\">200</tspan></text>\n",
       "\t</g>\n",
       "</g>\n",
       "<g color=\"black\" fill=\"none\" stroke=\"currentColor\" stroke-linecap=\"butt\" stroke-linejoin=\"miter\" stroke-width=\"0.50\">\n",
       "\t<path d=\"M53.9,16.7 L66.4,16.7 M535.0,16.7 L522.5,16.7  \" stroke=\"black\"/>\t<g fill=\"rgb(0,0,0)\" font-family=\"{}\" font-size=\"16.00\" stroke=\"none\" text-anchor=\"end\" transform=\"translate(45.6,22.7)\">\n",
       "\t\t<text><tspan font-family=\"{}\">400</tspan></text>\n",
       "\t</g>\n",
       "</g>\n",
       "<g color=\"black\" fill=\"none\" stroke=\"currentColor\" stroke-linecap=\"butt\" stroke-linejoin=\"miter\" stroke-width=\"0.50\">\n",
       "\t<path d=\"M53.9,384.0 L53.9,371.5 M53.9,16.7 L53.9,29.2  \" stroke=\"black\"/>\t<g fill=\"rgb(0,0,0)\" font-family=\"{}\" font-size=\"16.00\" stroke=\"none\" text-anchor=\"middle\" transform=\"translate(53.9,408.0)\">\n",
       "\t\t<text><tspan font-family=\"{}\">560</tspan></text>\n",
       "\t</g>\n",
       "</g>\n",
       "<g color=\"black\" fill=\"none\" stroke=\"currentColor\" stroke-linecap=\"butt\" stroke-linejoin=\"miter\" stroke-width=\"0.50\">\n",
       "\t<path d=\"M150.1,384.0 L150.1,371.5 M150.1,16.7 L150.1,29.2  \" stroke=\"black\"/>\t<g fill=\"rgb(0,0,0)\" font-family=\"{}\" font-size=\"16.00\" stroke=\"none\" text-anchor=\"middle\" transform=\"translate(150.1,408.0)\">\n",
       "\t\t<text><tspan font-family=\"{}\">562</tspan></text>\n",
       "\t</g>\n",
       "</g>\n",
       "<g color=\"black\" fill=\"none\" stroke=\"currentColor\" stroke-linecap=\"butt\" stroke-linejoin=\"miter\" stroke-width=\"0.50\">\n",
       "\t<path d=\"M246.3,384.0 L246.3,371.5 M246.3,16.7 L246.3,29.2  \" stroke=\"black\"/>\t<g fill=\"rgb(0,0,0)\" font-family=\"{}\" font-size=\"16.00\" stroke=\"none\" text-anchor=\"middle\" transform=\"translate(246.3,408.0)\">\n",
       "\t\t<text><tspan font-family=\"{}\">564</tspan></text>\n",
       "\t</g>\n",
       "</g>\n",
       "<g color=\"black\" fill=\"none\" stroke=\"currentColor\" stroke-linecap=\"butt\" stroke-linejoin=\"miter\" stroke-width=\"0.50\">\n",
       "\t<path d=\"M342.6,384.0 L342.6,371.5 M342.6,16.7 L342.6,29.2  \" stroke=\"black\"/>\t<g fill=\"rgb(0,0,0)\" font-family=\"{}\" font-size=\"16.00\" stroke=\"none\" text-anchor=\"middle\" transform=\"translate(342.6,408.0)\">\n",
       "\t\t<text><tspan font-family=\"{}\">566</tspan></text>\n",
       "\t</g>\n",
       "</g>\n",
       "<g color=\"black\" fill=\"none\" stroke=\"currentColor\" stroke-linecap=\"butt\" stroke-linejoin=\"miter\" stroke-width=\"0.50\">\n",
       "\t<path d=\"M438.8,384.0 L438.8,371.5 M438.8,16.7 L438.8,29.2  \" stroke=\"black\"/>\t<g fill=\"rgb(0,0,0)\" font-family=\"{}\" font-size=\"16.00\" stroke=\"none\" text-anchor=\"middle\" transform=\"translate(438.8,408.0)\">\n",
       "\t\t<text><tspan font-family=\"{}\">568</tspan></text>\n",
       "\t</g>\n",
       "</g>\n",
       "<g color=\"black\" fill=\"none\" stroke=\"currentColor\" stroke-linecap=\"butt\" stroke-linejoin=\"miter\" stroke-width=\"0.50\">\n",
       "\t<path d=\"M535.0,384.0 L535.0,371.5 M535.0,16.7 L535.0,29.2  \" stroke=\"black\"/>\t<g fill=\"rgb(0,0,0)\" font-family=\"{}\" font-size=\"16.00\" stroke=\"none\" text-anchor=\"middle\" transform=\"translate(535.0,408.0)\">\n",
       "\t\t<text><tspan font-family=\"{}\">570</tspan></text>\n",
       "\t</g>\n",
       "</g>\n",
       "<g color=\"black\" fill=\"none\" stroke=\"currentColor\" stroke-linecap=\"butt\" stroke-linejoin=\"miter\" stroke-width=\"0.50\">\n",
       "</g>\n",
       "<g color=\"black\" fill=\"none\" stroke=\"currentColor\" stroke-linecap=\"butt\" stroke-linejoin=\"miter\" stroke-width=\"0.50\">\n",
       "\t<path d=\"M53.9,16.7 L53.9,384.0 L535.0,384.0 L535.0,16.7 L53.9,16.7 Z  \" stroke=\"black\"/></g>\n",
       "<g color=\"black\" fill=\"none\" stroke=\"currentColor\" stroke-linecap=\"butt\" stroke-linejoin=\"miter\" stroke-width=\"0.50\">\n",
       "</g>\n",
       "\t<g id=\"gnuplot_plot_1a\"><title>gnuplot_plot_1a</title>\n",
       "<g color=\"white\" fill=\"none\" stroke=\"black\" stroke-linecap=\"butt\" stroke-linejoin=\"miter\" stroke-width=\"3.00\">\n",
       "</g>\n",
       "<g color=\"black\" fill=\"none\" stroke=\"currentColor\" stroke-linecap=\"butt\" stroke-linejoin=\"miter\" stroke-width=\"3.00\">\n",
       "\t<path d=\"M53.9,68.6 L58.7,71.1 L63.5,73.6 L68.3,76.1 L73.1,78.6 L78.0,81.2 L82.8,83.7 L87.6,86.2   L92.4,88.7 L97.2,91.2 L102.0,93.7 L106.8,96.2 L111.6,98.7 L116.4,101.2 L121.3,103.7 L126.1,106.2   L130.9,108.7 L135.7,111.2 L140.5,113.8 L145.3,116.3 L150.1,118.8 L154.9,121.3 L159.7,123.8 L164.6,126.3   L169.4,128.8 L174.2,131.3 L179.0,133.8 L183.8,136.3 L188.6,138.8 L193.4,141.3 L198.2,143.9 L203.0,146.4   L207.9,148.9 L212.7,151.4 L217.5,153.9 L222.3,156.4 L227.1,158.9 L231.9,161.4 L236.7,163.9 L241.5,166.4   L246.3,168.9 L251.2,171.4 L256.0,174.0 L260.8,176.5 L265.6,179.0 L270.4,181.5 L275.2,184.0 L280.0,186.5   L284.8,189.0 L289.6,191.5 L294.5,194.0 L299.3,196.5 L304.1,199.0 L308.9,201.5 L313.7,204.1 L318.5,206.6   L323.3,209.1 L328.1,211.6 L332.9,214.1 L337.7,216.6 L342.6,219.1 L347.4,221.6 L352.2,224.1 L357.0,226.6   L361.8,229.1 L366.6,231.6 L371.4,234.2 L376.2,236.7 L381.0,239.2 L385.9,241.7 L390.7,244.2 L395.5,246.7   L400.3,249.2 L405.1,251.7 L409.9,254.2 L414.7,256.7 L419.5,259.2 L424.3,261.7 L429.2,264.3 L434.0,266.8   L438.8,269.3 L443.6,271.8 L448.4,274.3 L453.2,276.8 L458.0,279.3 L462.8,281.8 L467.6,284.3 L472.5,286.8   L477.3,289.3 L482.1,291.8 L486.9,294.4 L491.7,296.9 L496.5,299.4 L501.3,301.9 L506.1,304.4 L510.9,306.9   L515.8,309.4 L520.6,311.9 L525.4,314.4 L530.2,316.9 L535.0,319.4  \" stroke=\"rgb(  0,   0, 255)\"/></g>\n",
       "\t</g>\n",
       "<g color=\"white\" fill=\"none\" stroke=\"rgb(  0,   0, 255)\" stroke-linecap=\"butt\" stroke-linejoin=\"miter\" stroke-width=\"2.00\">\n",
       "</g>\n",
       "<g color=\"black\" fill=\"none\" stroke=\"currentColor\" stroke-linecap=\"butt\" stroke-linejoin=\"miter\" stroke-width=\"2.00\">\n",
       "</g>\n",
       "<g color=\"black\" fill=\"none\" stroke=\"black\" stroke-linecap=\"butt\" stroke-linejoin=\"miter\" stroke-width=\"0.50\">\n",
       "</g>\n",
       "<g color=\"black\" fill=\"none\" stroke=\"currentColor\" stroke-linecap=\"butt\" stroke-linejoin=\"miter\" stroke-width=\"0.50\">\n",
       "</g>\n",
       "</g>\n",
       "</svg>"
      ],
      "text/plain": [
       "<IPython.core.display.SVG object>"
      ]
     },
     "metadata": {},
     "output_type": "display_data"
    }
   ],
   "source": [
    "setdefaults\n",
    "i=0;\n",
    "maxP=570;\n",
    "minP=560;\n",
    "stepsize=(maxP-minP)/100;\n",
    "for P=[minP:stepsize:maxP]\n",
    "    i=i+1;\n",
    "    A(i)=loan_payments(P,30000,0.05,5,0);\n",
    "end\n",
    "plot([minP:stepsize:maxP],A)"
   ]
  },
  {
   "cell_type": "markdown",
   "metadata": {
    "slideshow": {
     "slide_type": "slide"
    }
   },
   "source": [
    "## Matlab's function\n",
    "\n",
    "Matlab and Octave combine bracketing and open methods in the `fzero` function. "
   ]
  },
  {
   "cell_type": "code",
   "execution_count": 35,
   "metadata": {
    "collapsed": false,
    "slideshow": {
     "slide_type": "subslide"
    }
   },
   "outputs": [
    {
     "name": "stdout",
     "output_type": "stream",
     "text": [
      "'fzero' is a function from the file /usr/share/octave/4.0.0/m/optimization/fzero.m\n",
      "\n",
      " -- Function File: fzero (FUN, X0)\n",
      " -- Function File: fzero (FUN, X0, OPTIONS)\n",
      " -- Function File: [X, FVAL, INFO, OUTPUT] = fzero (...)\n",
      "     Find a zero of a univariate function.\n",
      "\n",
      "     FUN is a function handle, inline function, or string containing the\n",
      "     name of the function to evaluate.\n",
      "\n",
      "     X0 should be a two-element vector specifying two points which\n",
      "     bracket a zero.  In other words, there must be a change in sign of\n",
      "     the function between X0(1) and X0(2).  More mathematically, the\n",
      "     following must hold\n",
      "\n",
      "          sign (FUN(X0(1))) * sign (FUN(X0(2))) <= 0\n",
      "\n",
      "     If X0 is a single scalar then several nearby and distant values are\n",
      "     probed in an attempt to obtain a valid bracketing.  If this is not\n",
      "     successful, the function fails.\n",
      "\n",
      "     OPTIONS is a structure specifying additional options.  Currently,\n",
      "     'fzero' recognizes these options: \"FunValCheck\", \"OutputFcn\",\n",
      "     \"TolX\", \"MaxIter\", \"MaxFunEvals\".  For a description of these\n",
      "     options, see *note optimset: XREFoptimset.\n",
      "\n",
      "     On exit, the function returns X, the approximate zero point and\n",
      "     FVAL, the function value thereof.\n",
      "\n",
      "     INFO is an exit flag that can have these values:\n",
      "\n",
      "        * 1 The algorithm converged to a solution.\n",
      "\n",
      "        * 0 Maximum number of iterations or function evaluations has\n",
      "          been reached.\n",
      "\n",
      "        * -1 The algorithm has been terminated from user output\n",
      "          function.\n",
      "\n",
      "        * -5 The algorithm may have converged to a singular point.\n",
      "\n",
      "     OUTPUT is a structure containing runtime information about the\n",
      "     'fzero' algorithm.  Fields in the structure are:\n",
      "\n",
      "        * iterations Number of iterations through loop.\n",
      "\n",
      "        * nfev Number of function evaluations.\n",
      "\n",
      "        * bracketx A two-element vector with the final bracketing of the\n",
      "          zero along the x-axis.\n",
      "\n",
      "        * brackety A two-element vector with the final bracketing of the\n",
      "          zero along the y-axis.\n",
      "\n",
      "     See also: optimset, fsolve.\n",
      "\n",
      "Additional help for built-in functions and operators is\n",
      "available in the online version of the manual.  Use the command\n",
      "'doc <topic>' to search the manual index.\n",
      "\n",
      "Help and information about Octave is also available on the WWW\n",
      "at http://www.octave.org and via the help@octave.org\n",
      "mailing list.\n"
     ]
    }
   ],
   "source": [
    "help fzero"
   ]
  },
  {
   "cell_type": "code",
   "execution_count": 36,
   "metadata": {
    "collapsed": false,
    "slideshow": {
     "slide_type": "subslide"
    }
   },
   "outputs": [
    {
     "name": "stdout",
     "output_type": "stream",
     "text": [
      "monthly_pay =  563.79\n",
      "563.787893\n"
     ]
    }
   ],
   "source": [
    "monthly_pay=fzero(@(A) loan_payments(A,30000,0.05,5,0),500)\n",
    "fprintf('%1.6f\\n',monthly_pay)"
   ]
  },
  {
   "cell_type": "markdown",
   "metadata": {
    "slideshow": {
     "slide_type": "slide"
    }
   },
   "source": [
    "## Amortization\n",
    "\n",
    "Amortization calculation makes the same calculation for the monthly payment amount, A, paying off the principle amount, P, over n pay periods with monthly interest rate, r. \n",
    "\n",
    "$A=P\\frac{r(1+r)^{n}}{1+r)^{n-1}}$"
   ]
  },
  {
   "cell_type": "code",
   "execution_count": 19,
   "metadata": {
    "collapsed": false,
    "slideshow": {
     "slide_type": "fragment"
    }
   },
   "outputs": [
    {
     "name": "stdout",
     "output_type": "stream",
     "text": [
      "Amt =  566.14\r\n"
     ]
    }
   ],
   "source": [
    "% Amortization calculation\n",
    "A  = @(P,r,n) P*(r*(1+r)^n)./((1+r)^n-1);\n",
    "Amt=A(30000,0.05/12,5*12)"
   ]
  }
 ],
 "metadata": {
  "celltoolbar": "Slideshow",
  "kernelspec": {
   "display_name": "Octave",
   "language": "octave",
   "name": "octave"
  },
  "language_info": {
   "file_extension": ".m",
   "help_links": [
    {
     "text": "MetaKernel Magics",
     "url": "https://github.com/calysto/metakernel/blob/master/metakernel/magics/README.md"
    }
   ],
   "mimetype": "text/x-octave",
   "name": "octave",
   "version": "0.19.14"
  }
 },
 "nbformat": 4,
 "nbformat_minor": 2
}
